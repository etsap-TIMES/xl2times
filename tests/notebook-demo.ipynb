{
 "cells": [
  {
   "cell_type": "code",
   "execution_count": 1,
   "id": "65179b0a",
   "metadata": {},
   "outputs": [],
   "source": [
    "from os import path\n",
    "\n",
    "import gdx2py\n",
    "from gamspy_base import directory\n",
    "\n",
    "import xl2times.main as xt\n",
    "from xl2times.utils import run_gams, setup_logger"
   ]
  },
  {
   "cell_type": "code",
   "execution_count": 2,
   "id": "a93b7f6a",
   "metadata": {},
   "outputs": [
    {
     "name": "stdout",
     "output_type": "stream",
     "text": [
      "Requirement already satisfied: gdx2py in /scratch/htc/skrishna/xl2times/.venv/lib/python3.12/site-packages (2.2.0)\n",
      "Requirement already satisfied: gamspy-base in /scratch/htc/skrishna/xl2times/.venv/lib/python3.12/site-packages (49.6.1)\n",
      "Requirement already satisfied: gamsapi>=47 in /scratch/htc/skrishna/xl2times/.venv/lib/python3.12/site-packages (from gdx2py) (49.6.1)\n",
      "\n",
      "\u001b[1m[\u001b[0m\u001b[34;49mnotice\u001b[0m\u001b[1;39;49m]\u001b[0m\u001b[39;49m A new release of pip is available: \u001b[0m\u001b[31;49m24.3.1\u001b[0m\u001b[39;49m -> \u001b[0m\u001b[32;49m25.1.1\u001b[0m\n",
      "\u001b[1m[\u001b[0m\u001b[34;49mnotice\u001b[0m\u001b[1;39;49m]\u001b[0m\u001b[39;49m To update, run: \u001b[0m\u001b[32;49mpip install --upgrade pip\u001b[0m\n",
      "Note: you may need to restart the kernel to use updated packages.\n"
     ]
    }
   ],
   "source": [
    "%pip install gdx2py gamspy-base"
   ]
  },
  {
   "cell_type": "code",
   "execution_count": 3,
   "id": "f4e18642",
   "metadata": {},
   "outputs": [
    {
     "name": "stderr",
     "output_type": "stream",
     "text": [
      "/scratch/htc/skrishna/xl2times/xl2times/transforms.py:1276: FutureWarning: Setting an item of incompatible dtype is deprecated and will raise an error in a future version of pandas. Value 'EOH' has dtype incompatible with float64, please explicitly cast to a compatible dtype first.\n",
      "  df.loc[\n",
      "Applying transformations from ~TFM_UPD in SYSSETTINGS: 100%|██████████| 2/2 [00:00<00:00, 158.94it/s]\n"
     ]
    }
   ],
   "source": [
    "setup_logger(level=0)\n",
    "input_dir = \"../benchmarks/xlsx/DemoS_003/\"\n",
    "output_dir = \"../benchmarks/out/DemoS_003-all/\"\n",
    "times_dir = \"../TIMES_model/\"\n",
    "\n",
    "model, config = xt.read_xl(\n",
    "    inputs=[input_dir],\n",
    "    output_dir=output_dir,\n",
    "    regions=\"\",\n",
    "    include_dummy_imports=True,\n",
    "    no_cache=False,\n",
    ")"
   ]
  },
  {
   "cell_type": "code",
   "execution_count": 4,
   "id": "1c03f705",
   "metadata": {},
   "outputs": [],
   "source": [
    "# Inspect some key parameters in the solution\n",
    "def inspect_solution():\n",
    "    with gdx2py.GdxFile(path.join(output_dir, \"scenario.gdx\"), gams_dir=directory) as g:\n",
    "        print(g[\"REG_OBJ\"].values())\n",
    "        print(g[\"PAR_COMPRDL\"].values())\n",
    "        print(g[\"EQE_COMPRD\"])"
   ]
  },
  {
   "cell_type": "code",
   "execution_count": 5,
   "id": "54dd1832",
   "metadata": {},
   "outputs": [
    {
     "name": "stdout",
     "output_type": "stream",
     "text": [
      "169    0.9\n",
      "Name: value, dtype: object\n",
      "\u001b[36m2025-06-04 12:15:07.480\u001b[0m | \u001b[32m\u001b[1m SUCCESS\u001b[0m : \u001b[32m\u001b[1mExcel files successfully converted to DD and written to ../benchmarks/out/DemoS_003-all/\u001b[0m\n"
     ]
    },
    {
     "name": "stdout",
     "output_type": "stream",
     "text": [
      "\u001b[36m2025-06-04 12:15:09.090\u001b[0m | \u001b[32m\u001b[1m SUCCESS\u001b[0m : \u001b[32m\u001b[1mRan GAMS successfully on ../benchmarks/out/DemoS_003-all/:\n",
      "*** Status: Normal completion--- Job scenario.run Stop 06/04/25 12:15:08 elapsed 0:00:00.983\u001b[0m\n",
      "dict_values([3195557.668833001])\n",
      "dict_values([])\n",
      "None\n"
     ]
    }
   ],
   "source": [
    "print(model.attributes.query('attribute == \"COM_IE\"')[\"value\"])\n",
    "tables = xt.to_tables(config, model)\n",
    "xt.write_dd_files(tables, config, output_dir)\n",
    "\n",
    "run_gams(times_dir, output_dir)\n",
    "\n",
    "inspect_solution()"
   ]
  },
  {
   "cell_type": "code",
   "execution_count": 6,
   "id": "f8996f37",
   "metadata": {},
   "outputs": [
    {
     "name": "stdout",
     "output_type": "stream",
     "text": [
      "169    0.95\n",
      "Name: value, dtype: object\n",
      "\u001b[36m2025-06-04 12:15:09.540\u001b[0m | \u001b[32m\u001b[1m SUCCESS\u001b[0m : \u001b[32m\u001b[1mExcel files successfully converted to DD and written to ../benchmarks/out/DemoS_003-all/\u001b[0m\n"
     ]
    },
    {
     "name": "stdout",
     "output_type": "stream",
     "text": [
      "\u001b[36m2025-06-04 12:15:11.021\u001b[0m | \u001b[32m\u001b[1m SUCCESS\u001b[0m : \u001b[32m\u001b[1mRan GAMS successfully on ../benchmarks/out/DemoS_003-all/:\n",
      "*** Status: Normal completion--- Job scenario.run Stop 06/04/25 12:15:10 elapsed 0:00:00.936\u001b[0m\n",
      "dict_values([3095381.6789671676])\n",
      "dict_values([])\n",
      "None\n"
     ]
    }
   ],
   "source": [
    "# Modify COM_IE and re-run the scenario\n",
    "com_ie = model.attributes.query('attribute == \"COM_IE\"')\n",
    "model.attributes.loc[com_ie.index, \"value\"] = 0.95\n",
    "print(model.attributes.query('attribute == \"COM_IE\"')[\"value\"])\n",
    "\n",
    "tables = xt.to_tables(config, model)\n",
    "xt.write_dd_files(tables, config, output_dir)\n",
    "\n",
    "run_gams(times_dir, output_dir)\n",
    "\n",
    "inspect_solution()"
   ]
  }
 ],
 "metadata": {
  "kernelspec": {
   "display_name": ".venv",
   "language": "python",
   "name": "python3"
  },
  "language_info": {
   "codemirror_mode": {
    "name": "ipython",
    "version": 3
   },
   "file_extension": ".py",
   "mimetype": "text/x-python",
   "name": "python",
   "nbconvert_exporter": "python",
   "pygments_lexer": "ipython3",
   "version": "3.12.3"
  }
 },
 "nbformat": 4,
 "nbformat_minor": 5
}
